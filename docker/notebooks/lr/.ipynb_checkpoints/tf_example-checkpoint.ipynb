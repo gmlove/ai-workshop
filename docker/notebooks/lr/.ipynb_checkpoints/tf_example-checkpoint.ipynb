{
 "cells": [
  {
   "cell_type": "markdown",
   "metadata": {},
   "source": [
    "# TensorFlow基础知识"
   ]
  },
  {
   "cell_type": "code",
   "execution_count": 15,
   "metadata": {
    "collapsed": true
   },
   "outputs": [],
   "source": [
    "from __future__ import print_function\n",
    "from IPython.display import display, Image\n",
    "from PIL import Image as ImageReader\n",
    "import tensorflow as tf\n",
    "import numpy as np"
   ]
  },
  {
   "cell_type": "markdown",
   "metadata": {},
   "source": [
    "# 使用python显示一张图片"
   ]
  },
  {
   "cell_type": "code",
   "execution_count": 16,
   "metadata": {
    "collapsed": false
   },
   "outputs": [
    {
     "data": {
      "image/png": "[encoded data removed]",
      "text/plain": [
       "<IPython.core.display.Image object>"
      ]
     },
     "execution_count": 16,
     "metadata": {},
     "output_type": "execute_result"
    }
   ],
   "source": [
    "Image(filename='MDEtMDEtMDAudHRm.png')"
   ]
  },
  {
   "cell_type": "markdown",
   "metadata": {},
   "source": [
    "# 使用numpy读取一张图片的像素为数组"
   ]
  },
  {
   "cell_type": "code",
   "execution_count": 19,
   "metadata": {
    "collapsed": false
   },
   "outputs": [
    {
     "name": "stdout",
     "output_type": "stream",
     "text": [
      "[ 0.          0.          0.          0.          0.          0.          0.\n",
      "  0.          0.          0.          0.04705882  0.04313725  0.00392157\n",
      "  0.          0.03529412  0.01960784  0.          0.00392157  0.          0.\n",
      "  0.          0.          0.          0.          0.          0.          0.\n",
      "  0.          0.          0.          0.          0.          0.          0.\n",
      "  0.          0.          0.          0.          0.05882353  0.09019608\n",
      "  0.32156863  0.45490196  0.23921569  0.34901961  0.14117647  0.\n",
      "  0.00392157  0.          0.          0.          0.          0.          0.\n",
      "  0.          0.          0.          0.          0.          0.          0.\n",
      "  0.          0.          0.          0.          0.00784314  0.          0.2745098\n",
      "  0.61960784  0.76862745  1.          0.87058824  0.88627451  0.48627451\n",
      "  0.12156863  0.00784314  0.          0.          0.          0.          0.\n",
      "  0.          0.          0.          0.          0.          0.          0.\n",
      "  0.          0.          0.          0.          0.00784314  0.\n",
      "  0.17254902  0.56862745  0.8         1.          0.98039216  0.99215686\n",
      "  1.          0.89411765  0.54509804  0.          0.00392157  0.          0.\n",
      "  0.          0.          0.          0.          0.          0.          0.\n",
      "  0.          0.          0.          0.          0.          0.\n",
      "  0.00784314  0.          0.18039216  0.53333333  0.94509804  0.99607843\n",
      "  0.99607843  0.99215686  0.99607843  0.96078431  0.63137255  0.16078431\n",
      "  0.01176471  0.          0.          0.          0.          0.          0.\n",
      "  0.          0.          0.          0.          0.          0.          0.\n",
      "  0.          0.          0.01960784  0.          0.32941176  0.99607843\n",
      "  0.99607843  0.99607843  1.          1.          1.          0.94117647\n",
      "  0.91372549  0.50588235  0.          0.          0.00392157  0.          0.\n",
      "  0.          0.          0.          0.          0.          0.          0.\n",
      "  0.          0.          0.          0.00784314  0.          0.29803922\n",
      "  0.70980392  0.90588235  0.98823529  1.          1.          1.\n",
      "  0.99607843  1.          0.95686275  0.51764706  0.12156863  0.\n",
      "  0.00392157  0.          0.          0.          0.          0.          0.\n",
      "  0.          0.          0.          0.          0.          0.\n",
      "  0.01176471  0.          0.50980392  0.70588235  0.95686275  1.\n",
      "  0.98823529  0.98823529  1.          0.99215686  1.          0.85882353\n",
      "  0.86666667  0.23137255  0.          0.01176471  0.          0.          0.\n",
      "  0.          0.          0.          0.          0.          0.          0.\n",
      "  0.          0.          0.01568627  0.04705882  0.54117647  0.86666667\n",
      "  1.          0.99607843  0.99215686  0.97254902  0.9254902   0.99215686\n",
      "  0.99607843  1.          0.92156863  0.43921569  0.          0.00784314\n",
      "  0.          0.          0.          0.          0.          0.          0.\n",
      "  0.          0.          0.          0.          0.00392157  0.\n",
      "  0.18431373  0.73333333  1.          0.99215686  1.          0.95294118\n",
      "  0.71764706  0.73333333  0.8         1.          0.99215686  0.99607843\n",
      "  0.56862745  0.27058824  0.          0.00392157  0.          0.          0.\n",
      "  0.          0.          0.          0.          0.          0.00392157\n",
      "  0.          0.05098039  0.1254902   0.67058824  0.81176471  1.\n",
      "  0.99215686  1.          0.77647059  0.06666667  0.39607843  0.72156863\n",
      "  0.94901961  1.          1.          0.87843137  0.54901961  0.15294118\n",
      "  0.          0.00784314  0.          0.          0.          0.          0.\n",
      "  0.          0.          0.00392157  0.          0.13333333  0.03921569\n",
      "  0.54117647  1.          0.98431373  0.99607843  0.99215686  0.5254902\n",
      "  0.00784314  0.26666667  0.6627451   0.96078431  1.          1.\n",
      "  0.96862745  0.60784314  0.27058824  0.          0.00784314  0.          0.\n",
      "  0.          0.          0.          0.          0.          0.\n",
      "  0.01176471  0.06666667  0.34901961  0.9254902   0.94901961  1.          1.\n",
      "  0.83137255  0.43921569  0.07843137  0.01568627  0.40392157  0.74509804\n",
      "  0.8745098   1.          1.          0.8745098   0.29803922  0.05882353\n",
      "  0.          0.00392157  0.          0.          0.          0.          0.\n",
      "  0.          0.          0.01176471  0.08235294  0.68627451  0.98823529\n",
      "  0.99215686  0.99607843  0.92941176  0.58823529  0.21176471  0.\n",
      "  0.00784314  0.1372549   0.65098039  0.95686275  0.99607843  1.\n",
      "  0.91764706  0.55294118  0.23137255  0.          0.00392157  0.          0.\n",
      "  0.          0.          0.          0.          0.00392157  0.\n",
      "  0.30196078  0.90588235  1.          1.          0.99607843  0.8627451\n",
      "  0.5372549   0.14901961  0.          0.03137255  0.1254902   0.39215686\n",
      "  0.97254902  0.99215686  0.99215686  1.          0.65490196  0.12156863\n",
      "  0.09803922  0.01568627  0.          0.          0.          0.          0.\n",
      "  0.          0.          0.11372549  0.28627451  0.74117647  1.          1.\n",
      "  0.92941176  0.71764706  0.30980392  0.          0.00784314  0.\n",
      "  0.05490196  0.32941176  0.62352941  1.          0.99215686  0.98823529\n",
      "  1.          0.35294118  0.05882353  0.03529412  0.          0.          0.\n",
      "  0.          0.          0.00392157  0.01176471  0.16862745  0.6745098\n",
      "  0.96470588  0.99607843  1.          0.96470588  0.79215686  0.56078431\n",
      "  0.38039216  0.23921569  0.45490196  0.3254902   0.37254902  0.88235294\n",
      "  0.92941176  0.99215686  1.          0.97647059  0.72941176  0.14901961\n",
      "  0.01568627  0.          0.          0.          0.          0.00392157\n",
      "  0.          0.07843137  0.3372549   0.85882353  0.99607843  1.          1.\n",
      "  0.97254902  0.94117647  0.80784314  0.74117647  0.92941176  0.68627451\n",
      "  0.78823529  0.85882353  0.9254902   0.95294118  0.99607843  1.\n",
      "  0.98039216  0.93333333  0.28627451  0.0745098   0.          0.00392157\n",
      "  0.          0.          0.01176471  0.01176471  0.18431373  0.60392157\n",
      "  0.92156863  1.          0.99607843  0.99607843  1.          1.          1.\n",
      "  1.          0.99607843  0.96078431  0.99215686  0.97647059  1.          1.\n",
      "  1.          1.          0.98823529  1.          0.66666667  0.13333333\n",
      "  0.01568627  0.          0.          0.          0.01568627  0.01568627\n",
      "  0.42745098  0.88627451  0.89411765  1.          0.99215686  1.\n",
      "  0.99607843  0.97647059  0.98823529  1.          0.99215686  0.99607843\n",
      "  0.99215686  1.          1.          0.99215686  0.99215686  1.\n",
      "  0.98823529  1.          0.83137255  0.16862745  0.04705882  0.          0.\n",
      "  0.00392157  0.          0.06666667  0.49803922  0.97254902  0.95686275\n",
      "  1.          1.          0.98431373  0.98039216  0.98039216  0.98431373\n",
      "  0.91372549  0.99215686  0.90980392  0.94901961  0.88627451  0.96862745\n",
      "  0.98823529  1.          0.99607843  0.99607843  1.          0.86666667\n",
      "  0.33333333  0.08627451  0.          0.00392157  0.          0.02745098\n",
      "  0.35686275  0.71764706  0.97647059  1.          0.99607843  0.97647059\n",
      "  0.56470588  0.46666667  0.76862745  0.45490196  0.32941176  0.39607843\n",
      "  0.32941176  0.56470588  0.6         0.30196078  0.47843137  0.81176471\n",
      "  0.96470588  0.95294118  1.          0.99607843  0.76078431  0.1372549   0.\n",
      "  0.00784314  0.01568627  0.16470588  0.45098039  0.83137255  1.\n",
      "  0.98431373  1.          0.63529412  0.28627451  0.1372549   0.\n",
      "  0.03921569  0.05490196  0.          0.0627451   0.02352941  0.13333333\n",
      "  0.0745098   0.02352941  0.48235294  0.73333333  0.88235294  1.\n",
      "  0.99215686  0.81960784  0.65490196  0.          0.00392157  0.05098039\n",
      "  0.19215686  0.59607843  0.98039216  0.99607843  1.          0.93333333\n",
      "  0.50980392  0.20784314  0.02745098  0.          0.00784314  0.00392157\n",
      "  0.01568627  0.00392157  0.00392157  0.          0.00784314  0.          0.0627451\n",
      "  0.52156863  0.94509804  1.          1.          0.9254902   0.57254902\n",
      "  0.38039216  0.01568627  0.10196078  0.37254902  0.85098039  1.\n",
      "  0.98823529  0.9372549   0.69019608  0.38823529  0.0627451   0.\n",
      "  0.00392157  0.          0.          0.          0.          0.\n",
      "  0.00392157  0.00392157  0.01176471  0.          0.24313725  0.89803922\n",
      "  0.92156863  0.99607843  0.98039216  0.8627451   0.50588235  0.\n",
      "  0.16862745  0.71764706  0.98431373  1.          0.9254902   0.94117647\n",
      "  0.47843137  0.09019608  0.05490196  0.          0.          0.          0.\n",
      "  0.          0.          0.          0.          0.          0.00392157\n",
      "  0.          0.08235294  0.6627451   0.94901961  0.95294118  1.          1.\n",
      "  0.49019608  0.15686275  0.16862745  0.47058824  0.49411765  0.58431373\n",
      "  0.83137255  0.52156863  0.09019608  0.00784314  0.00784314  0.          0.\n",
      "  0.          0.          0.          0.          0.          0.          0.\n",
      "  0.00392157  0.          0.14509804  0.2627451   0.69803922  0.79607843\n",
      "  0.51372549  0.70196078  0.32156863  0.04705882  0.01568627  0.09803922\n",
      "  0.1254902   0.01960784  0.04705882  0.03529412  0.00392157  0.00392157\n",
      "  0.          0.          0.          0.          0.          0.          0.\n",
      "  0.          0.          0.          0.          0.          0.03529412\n",
      "  0.0745098   0.01568627  0.11764706  0.04313725  0.03137255  0.30196078\n",
      "  0.05098039]\n"
     ]
    }
   ],
   "source": [
    "imageReader = ImageReader.open('MDEtMDEtMDAudHRm.png')\n",
    "pixels = np.array(imageReader.convert('L').getdata())\n",
    "print(pixels/255) # 将图片变为矩阵，矩阵的内容为像素值"
   ]
  },
  {
   "cell_type": "code",
   "execution_count": 3,
   "metadata": {
    "collapsed": false
   },
   "outputs": [
    {
     "name": "stdout",
     "output_type": "stream",
     "text": [
      "b'Hello, TensorFlow!'\n"
     ]
    }
   ],
   "source": [
    "hello = tf.constant('Hello, TensorFlow!')\n",
    "# 启动tf session\n",
    "sess = tf.Session()\n",
    "# 运行操作\n",
    "print(sess.run(hello))"
   ]
  },
  {
   "cell_type": "markdown",
   "metadata": {},
   "source": [
    "# 张量定义"
   ]
  },
  {
   "cell_type": "code",
   "execution_count": 4,
   "metadata": {
    "collapsed": true
   },
   "outputs": [],
   "source": [
    "tensor_var = tf.constant([[3., 3.]])"
   ]
  },
  {
   "cell_type": "markdown",
   "metadata": {},
   "source": [
    "# 变量定义"
   ]
  },
  {
   "cell_type": "code",
   "execution_count": 5,
   "metadata": {
    "collapsed": false
   },
   "outputs": [],
   "source": [
    "v1 = tf.Variable(np.random.randn(), name=\"weight\")\n",
    "v2 = tf.Variable(np.random.randn(), name=\"bias\")"
   ]
  },
  {
   "cell_type": "markdown",
   "metadata": {},
   "source": [
    "# 计算矩阵相乘"
   ]
  },
  {
   "cell_type": "code",
   "execution_count": 6,
   "metadata": {
    "collapsed": false
   },
   "outputs": [
    {
     "name": "stdout",
     "output_type": "stream",
     "text": [
      "Tensor(\"MatMul:0\", shape=(1, 1), dtype=float32)\n"
     ]
    }
   ],
   "source": [
    "# 创建一个 常量 op, 返回值 'matrix1' 代表这个 1x2 矩阵.\n",
    "matrix1 = tf.constant([[3., 3.]])\n",
    "# 创建另外一个 常量 op, 返回值 'matrix2' 代表这个 2x1 矩阵.\n",
    "matrix2 = tf.constant([[2.],[2.]])\n",
    "# 创建一个矩阵乘法 matmul op , 把 'matrix1' 和 'matrix2' 作为输入.\n",
    "# 返回值 'product' 代表矩阵乘法的结果.\n",
    "product = tf.matmul(matrix1, matrix2)\n",
    "print(product)"
   ]
  },
  {
   "cell_type": "markdown",
   "metadata": {},
   "source": [
    "# 在一个会话中启动图"
   ]
  },
  {
   "cell_type": "code",
   "execution_count": 7,
   "metadata": {
    "collapsed": false
   },
   "outputs": [
    {
     "name": "stdout",
     "output_type": "stream",
     "text": [
      "[[ 12.]]\n"
     ]
    }
   ],
   "source": [
    "# 启动默认图.\n",
    "sess = tf.Session()\n",
    "\n",
    "# 调用 sess 的 'run()' 方法来执行矩阵乘法 op, 传入 'product' 作为该方法的参数. \n",
    "# 上面提到, 'product' 代表了矩阵乘法 op 的输出, 传入它是向方法表明, 我们希望取回\n",
    "# 矩阵乘法 op 的输出.\n",
    "#\n",
    "# 整个执行过程是自动化的, 会话负责传递 op 所需的全部输入. op 通常是并发执行的.\n",
    "# \n",
    "# 函数调用 'run(product)' 触发了图中三个 op (两个常量 op 和一个矩阵乘法 op) 的执行.\n",
    "#\n",
    "# 返回值 'result' 是一个 numpy `ndarray` 对象.\n",
    "result = sess.run(product)\n",
    "print(result)\n",
    "# ==> [[ 12.]]\n",
    "\n",
    "# 任务完成, 关闭会话.\n",
    "sess.close()\n",
    "\n",
    "#也可以使用 \"with\" 代码块 来自动完成关闭动作.\n",
    "# with tf.Session() as sess:\n",
    "#  result = sess.run([product])\n",
    "#  print result"
   ]
  },
  {
   "cell_type": "markdown",
   "metadata": {},
   "source": [
    "# 变量的更新"
   ]
  },
  {
   "cell_type": "code",
   "execution_count": 9,
   "metadata": {
    "collapsed": false
   },
   "outputs": [
    {
     "name": "stdout",
     "output_type": "stream",
     "text": [
      "10\n"
     ]
    }
   ],
   "source": [
    "state = tf.Variable(0, name=\"var\")\n",
    "one = tf.constant(10)\n",
    "new_value = tf.add(state, one)\n",
    "update = tf.assign(state, new_value)\n",
    "init_op = tf.initialize_all_variables()\n",
    "sess = tf.Session()\n",
    "sess.run(init_op)\n",
    "sess.run(update)\n",
    "print(sess.run(state))"
   ]
  },
  {
   "cell_type": "markdown",
   "metadata": {},
   "source": [
    "# 作业一：使用变量实现一个简单的计数器"
   ]
  },
  {
   "cell_type": "code",
   "execution_count": 21,
   "metadata": {
    "collapsed": false
   },
   "outputs": [
    {
     "name": "stdout",
     "output_type": "stream",
     "text": [
      "0\n",
      "1\n",
      "2\n",
      "3\n"
     ]
    }
   ],
   "source": [
    "# －创建一个变量, 初始化为标量 0.  初始化定义初值\n",
    "state = tf.Variable(0, name=\"counter\")\n",
    "# todo 请根据前面的知识，循环3次，将state每次循环+1，最终输出state的值为：3"
   ]
  },
  {
   "cell_type": "code",
   "execution_count": null,
   "metadata": {
    "collapsed": true
   },
   "outputs": [],
   "source": []
  }
 ],
 "metadata": {
  "kernelspec": {
   "display_name": "Python 3",
   "language": "python",
   "name": "python3"
  },
  "language_info": {
   "codemirror_mode": {
    "name": "ipython",
    "version": 3
   },
   "file_extension": ".py",
   "mimetype": "text/x-python",
   "name": "python",
   "nbconvert_exporter": "python",
   "pygments_lexer": "ipython3",
   "version": "3.5.1"
  }
 },
 "nbformat": 4,
 "nbformat_minor": 0
}
