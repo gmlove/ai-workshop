{
 "cells": [
  {
   "cell_type": "markdown",
   "metadata": {},
   "source": [
    "# 基于TF使用NotMnist数据集训练一个线性模型"
   ]
  },
  {
   "cell_type": "code",
   "execution_count": 2,
   "metadata": {
    "collapsed": true
   },
   "outputs": [],
   "source": [
    "import pickle\n",
    "import numpy as np\n",
    "import tensorflow as tf\n",
    "\n",
    "image_size = 28\n",
    "num_labels = 10"
   ]
  },
  {
   "cell_type": "markdown",
   "metadata": {},
   "source": [
    "# 封装数据集为对象"
   ]
  },
  {
   "cell_type": "code",
   "execution_count": 3,
   "metadata": {
    "collapsed": false
   },
   "outputs": [],
   "source": [
    "class NotMNIST:\n",
    "    def __init__(self):\n",
    "        class Train:\n",
    "            def __init__(self):\n",
    "                self.images = []\n",
    "                self.labels = []\n",
    "                self.batch_counter = 0\n",
    "\n",
    "            @property\n",
    "            def num_examples(self):\n",
    "                return len(self.images)\n",
    "\n",
    "            def next_batch(self, num):\n",
    "                if self.batch_counter + num >= len(self.labels):\n",
    "                    batch_images = self.images[self.batch_counter:]\n",
    "                    batch_labels = self.labels[self.batch_counter:]\n",
    "                    left = num - len(batch_labels)\n",
    "                    self.batch_counter = left\n",
    "                else:\n",
    "                    batch_images = self.images[self.batch_counter:self.batch_counter + num]\n",
    "                    batch_labels = self.labels[self.batch_counter:self.batch_counter + num]\n",
    "                    self.batch_counter += num\n",
    "                return batch_images, batch_labels\n",
    "\n",
    "        class Test:\n",
    "            def __init__(self):\n",
    "                self.images = []\n",
    "                self.labels = []\n",
    "\n",
    "        class Valid:\n",
    "            def __init__(self):\n",
    "                self.images = []\n",
    "                self.labels = []\n",
    "\n",
    "        self.train = Train()\n",
    "        self.test = Test()\n",
    "        self.valid = Valid()\n",
    "        \n",
    "        pickle_file = '../data/notMNIST.pickle'\n",
    "\n",
    "        with open(pickle_file, 'rb') as f:\n",
    "            save = pickle.load(f)\n",
    "            train_dataset = save['train_dataset']\n",
    "            train_labels = save['train_labels']\n",
    "            valid_dataset = save['valid_dataset']\n",
    "            valid_labels = save['valid_labels']\n",
    "            test_dataset = save['test_dataset']\n",
    "            test_labels = save['test_labels']\n",
    "            del save  # 删除内存文件，等待gc回收释放内存\n",
    "\n",
    "        def reformat(dataset, labels):\n",
    "            dataset = dataset.reshape((-1, image_size * image_size)).astype(np.float32)\n",
    "            labels = (np.arange(num_labels) == labels[:, None]).astype(np.float32)\n",
    "            return dataset, labels\n",
    "\n",
    "        train_dataset, train_labels = reformat(train_dataset, train_labels)\n",
    "        valid_dataset, valid_labels = reformat(valid_dataset, valid_labels)\n",
    "        test_dataset, test_labels = reformat(test_dataset, test_labels)\n",
    "        print('Training set', train_dataset.shape, train_labels.shape)\n",
    "        print('Validation set', valid_dataset.shape, valid_labels.shape)\n",
    "        print('Test set', test_dataset.shape, test_labels.shape)\n",
    "        self.train.images = train_dataset\n",
    "        self.train.labels = train_labels\n",
    "        self.valid.images = valid_dataset\n",
    "        self.valid.labels = valid_labels\n",
    "        self.test.images = test_dataset\n",
    "        self.test.labels = test_labels"
   ]
  },
  {
   "cell_type": "markdown",
   "metadata": {},
   "source": [
    "# 创建数据集实例"
   ]
  },
  {
   "cell_type": "code",
   "execution_count": 4,
   "metadata": {
    "collapsed": false
   },
   "outputs": [
    {
     "name": "stdout",
     "output_type": "stream",
     "text": [
      "Training set (200000, 784) (200000, 10)\n",
      "Validation set (10000, 784) (10000, 10)\n",
      "Test set (10000, 784) (10000, 10)\n"
     ]
    }
   ],
   "source": [
    "not_mnist = NotMNIST()"
   ]
  },
  {
   "cell_type": "markdown",
   "metadata": {},
   "source": [
    "# 训练参数设定"
   ]
  },
  {
   "cell_type": "code",
   "execution_count": 5,
   "metadata": {
    "collapsed": false
   },
   "outputs": [],
   "source": [
    "# 参数\n",
    "learning_rate = 0.01  # 梯度下降步长，寻找最优解的下降步长\n",
    "training_epochs = 25  # 迭代轮数\n",
    "batch_size = 100  # 批次训练数据集大小\n",
    "display_step = 1\n",
    "\n",
    "# tf图输入\n",
    "x = tf.placeholder(tf.float32, [None, 784])  # mnist 数据集图片大小为28*28=784，placeholder为占位符\n",
    "y = tf.placeholder(tf.float32, [None, 10])  # 识别A-J的数据，一共10个类别\n",
    "\n",
    "# 设置模型权重\n",
    "W = tf.Variable(tf.zeros([784, 10]))\n",
    "b = tf.Variable(tf.zeros([10]))\n"
   ]
  },
  {
   "cell_type": "code",
   "execution_count": 6,
   "metadata": {
    "collapsed": false
   },
   "outputs": [],
   "source": [
    "# 构造模型\n",
    "pred = tf.nn.softmax(tf.matmul(x, W) + b)  # Softmax"
   ]
  },
  {
   "cell_type": "code",
   "execution_count": 9,
   "metadata": {
    "collapsed": false
   },
   "outputs": [],
   "source": [
    "# 损失函数：交叉墒\n",
    "cost = # todo  请使用tf的api定义交叉墒损失函数\n",
    "\n",
    "# 使用梯度下降算法寻找最优解\n",
    "optimizer = #todo 请使用tf函数定义梯度下降优化法方法\n",
    "\n",
    "# 测试模型\n",
    "correct_prediction = tf.equal(tf.argmax(pred, 1), tf.argmax(y, 1))\n",
    "# 计算准确度\n",
    "accuracy = tf.reduce_mean(tf.cast(correct_prediction, tf.float32))\n",
    "\n",
    "# 初始化所有变量\n",
    "init = tf.initialize_all_variables()\n",
    "saver = tf.train.Saver()"
   ]
  },
  {
   "cell_type": "markdown",
   "metadata": {},
   "source": [
    "# 开始进行训练，按照迭代次数进行迭代，每个迭代采用valid数据集进行验证"
   ]
  },
  {
   "cell_type": "code",
   "execution_count": 10,
   "metadata": {
    "collapsed": false
   },
   "outputs": [
    {
     "name": "stdout",
     "output_type": "stream",
     "text": [
      "Epoch: 0001 cost= 0.811032374 valid= 0.8162\n",
      "Epoch: 0002 cost= 0.681907207 valid= 0.8218\n",
      "Epoch: 0003 cost= 0.663432166 valid= 0.8238\n",
      "Epoch: 0004 cost= 0.653813422 valid= 0.826\n",
      "Epoch: 0005 cost= 0.647695139 valid= 0.8267\n",
      "Epoch: 0006 cost= 0.643404561 valid= 0.827\n",
      "Epoch: 0007 cost= 0.640203325 valid= 0.8272\n",
      "Epoch: 0008 cost= 0.637706068 valid= 0.8272\n",
      "Epoch: 0009 cost= 0.635690617 valid= 0.8273\n",
      "Epoch: 0010 cost= 0.634019900 valid= 0.8277\n",
      "Epoch: 0011 cost= 0.632604833 valid= 0.828\n",
      "Epoch: 0012 cost= 0.631385096 valid= 0.8283\n",
      "Epoch: 0013 cost= 0.630318386 valid= 0.8281\n",
      "Epoch: 0014 cost= 0.629374129 valid= 0.828\n",
      "Epoch: 0015 cost= 0.628529666 valid= 0.8287\n",
      "Epoch: 0016 cost= 0.627767825 valid= 0.8288\n",
      "Epoch: 0017 cost= 0.627075309 valid= 0.829\n",
      "Epoch: 0018 cost= 0.626441662 valid= 0.8291\n",
      "Epoch: 0019 cost= 0.625858534 valid= 0.8293\n",
      "Epoch: 0020 cost= 0.625319161 valid= 0.8288\n",
      "Epoch: 0021 cost= 0.624817989 valid= 0.8291\n",
      "Epoch: 0022 cost= 0.624350434 valid= 0.8297\n",
      "Epoch: 0023 cost= 0.623912642 valid= 0.8299\n",
      "Epoch: 0024 cost= 0.623501379 valid= 0.8303\n",
      "Epoch: 0025 cost= 0.623113874 valid= 0.8306\n",
      "Optimization Finished!\n",
      "Accuracy: 0.8991\n"
     ]
    }
   ],
   "source": [
    "# 启动tf图\n",
    "with tf.Session() as sess:\n",
    "    sess.run(init)  # 初始化所有变量\n",
    "\n",
    "    # 迭代训练\n",
    "    for epoch in range(training_epochs):\n",
    "        avg_cost = 0.\n",
    "        total_batch = int(not_mnist.train.num_examples / batch_size)  # 计算数据集总共有多少批次数据\n",
    "        # 训练训练所有批次数据\n",
    "        for i in range(total_batch):\n",
    "            batch_xs, batch_ys = not_mnist.train.next_batch(batch_size)\n",
    "            # 运行优化操作和损失函数计算操作，获取损失值\n",
    "            _, c = sess.run([optimizer, cost], feed_dict={x: batch_xs,\n",
    "                                                          y: batch_ys})\n",
    "            # 计算平均损失\n",
    "            avg_cost += c / total_batch\n",
    "        # 打印显示\n",
    "        if (epoch + 1) % display_step == 0:\n",
    "            print(\"Epoch:\", '%04d' % (epoch + 1), \"cost=\", \"{:.9f}\".format(avg_cost), \"valid=\", accuracy.eval({x: not_mnist.valid.images, y: not_mnist.valid.labels}))\n",
    "    print(\"Optimization Finished!\")\n",
    "    print(\"Accuracy:\", accuracy.eval({x: not_mnist.test.images, y: not_mnist.test.labels}))\n",
    "    #saver.save(sess, 'my-model') # 保存模型"
   ]
  },
  {
   "cell_type": "markdown",
   "metadata": {
    "collapsed": true
   },
   "source": [
    "# 作业一：请尝试切换不同的优化方法，例如使用：\n",
    "* GradientDescentOptimizer\n",
    "* AdadeltaOptimizer\n",
    "* AdagradOptimizer\n",
    "* MomentumOptimizer\n",
    "* AdamOptimizer\n",
    "* FtrlOptimizer\n",
    "* RMSPropOptimizer\n",
    "\n",
    "# 观察结果\n",
    "\n",
    "# 作业二：请进行不同的参数调整，例如minibatch 大小，learning_rate，已经迭代训练的次数，观察结果"
   ]
  },
  {
   "cell_type": "code",
   "execution_count": null,
   "metadata": {
    "collapsed": true
   },
   "outputs": [],
   "source": []
  }
 ],
 "metadata": {
  "kernelspec": {
   "display_name": "Python 3",
   "language": "python",
   "name": "python3"
  },
  "language_info": {
   "codemirror_mode": {
    "name": "ipython",
    "version": 3
   },
   "file_extension": ".py",
   "mimetype": "text/x-python",
   "name": "python",
   "nbconvert_exporter": "python",
   "pygments_lexer": "ipython3",
   "version": "3.5.1"
  }
 },
 "nbformat": 4,
 "nbformat_minor": 0
}
