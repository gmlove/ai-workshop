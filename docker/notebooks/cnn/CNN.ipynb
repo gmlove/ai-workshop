{
 "cells": [
  {
   "cell_type": "code",
   "execution_count": 73,
   "metadata": {
    "collapsed": true,
    "deletable": true,
    "editable": true
   },
   "outputs": [],
   "source": [
    "import pickle\n",
    "import numpy as np\n",
    "import tensorflow as tf\n",
    "\n",
    "image_size = 28\n",
    "num_labels = 10"
   ]
  },
  {
   "cell_type": "code",
   "execution_count": 74,
   "metadata": {
    "collapsed": false,
    "deletable": true,
    "editable": true
   },
   "outputs": [
    {
     "name": "stdout",
     "output_type": "stream",
     "text": [
      "Training set (200000, 784) (200000, 10)\n",
      "Validation set (10000, 784) (10000, 10)\n",
      "Test set (10000, 784) (10000, 10)\n"
     ]
    }
   ],
   "source": [
    "class NotMNIST:\n",
    "    def __init__(self):\n",
    "        class Train:\n",
    "            def __init__(self):\n",
    "                self.images = []\n",
    "                self.labels = []\n",
    "                self.batch_counter = 0\n",
    "\n",
    "            @property\n",
    "            def num_examples(self):\n",
    "                return len(self.images)\n",
    "\n",
    "            def next_batch(self, num):\n",
    "                if self.batch_counter + num >= len(self.labels):\n",
    "                    batch_images = self.images[self.batch_counter:]\n",
    "                    batch_labels = self.labels[self.batch_counter:]\n",
    "                    left = num - len(batch_labels)\n",
    "                    self.batch_counter = left\n",
    "                else:\n",
    "                    batch_images = self.images[self.batch_counter:self.batch_counter + num]\n",
    "                    batch_labels = self.labels[self.batch_counter:self.batch_counter + num]\n",
    "                    self.batch_counter += num\n",
    "                return batch_images, batch_labels\n",
    "\n",
    "        class Test:\n",
    "            def __init__(self):\n",
    "                self.images = []\n",
    "                self.labels = []\n",
    "\n",
    "        self.train = Train()\n",
    "        self.test = Test()\n",
    "            \n",
    "        self.load_as(self.format_of((-1, image_size * image_size)))\n",
    "        \n",
    "    def format_of(self, shape):\n",
    "        return lambda dataset, labels: (\n",
    "                dataset.reshape(shape).astype(np.float32),\n",
    "                (np.arange(num_labels) == labels[:, None]).astype(np.float32)\n",
    "            )\n",
    "        \n",
    "    def load_as(self, reformat):\n",
    "\n",
    "        pickle_file = '../data/notMNIST.pickle'\n",
    "\n",
    "        with open(pickle_file, 'rb') as f:\n",
    "            save = pickle.load(f)\n",
    "            train_dataset = save['train_dataset']\n",
    "            train_labels = save['train_labels']\n",
    "            valid_dataset = save['valid_dataset']\n",
    "            valid_labels = save['valid_labels']\n",
    "            test_dataset = save['test_dataset']\n",
    "            test_labels = save['test_labels']\n",
    "            del save  # 删除内存文件，等待gc回收释放内存\n",
    "        \n",
    "        train_dataset, train_labels = reformat(train_dataset, train_labels)\n",
    "        valid_dataset, valid_labels = reformat(valid_dataset, valid_labels)\n",
    "        test_dataset, test_labels = reformat(test_dataset, test_labels)\n",
    "        print('Training set', train_dataset.shape, train_labels.shape)\n",
    "        print('Validation set', valid_dataset.shape, valid_labels.shape)\n",
    "        print('Test set', test_dataset.shape, test_labels.shape)\n",
    "        self.train.images = train_dataset\n",
    "        self.train.labels = train_labels\n",
    "        self.test.images = test_dataset\n",
    "        self.test.labels = test_labels  \n",
    "        \n",
    "    def reshape_like_image(self, channels):\n",
    "        self.load_as(self.format_of((-1, image_size, image_size, channels)))      \n",
    "\n",
    "not_mnist = NotMNIST()"
   ]
  },
  {
   "cell_type": "code",
   "execution_count": 76,
   "metadata": {
    "collapsed": false
   },
   "outputs": [
    {
     "name": "stdout",
     "output_type": "stream",
     "text": [
      "Training set (200000, 28, 28, 1) (200000, 10)\n",
      "Validation set (10000, 28, 28, 1) (10000, 10)\n",
      "Test set (10000, 28, 28, 1) (10000, 10)\n"
     ]
    }
   ],
   "source": [
    "num_channels = 1 # 灰度图\n",
    "\n",
    "not_mnist.reshape_like_image(num_channels)"
   ]
  },
  {
   "cell_type": "code",
   "execution_count": 79,
   "metadata": {
    "collapsed": false,
    "deletable": true,
    "editable": true
   },
   "outputs": [],
   "source": [
    "# 训练参数\n",
    "learning_rate = 0.01  # 梯度下降步长，寻找最优解的下降步长\n",
    "training_epochs = 25  # 迭代轮数\n",
    "batch_size = 50  # 批次训练数据集大小\n",
    "display_step = 1\n",
    "\n",
    "# tf图输入\n",
    "x = tf.placeholder(tf.float32, [None, image_size, image_size, num_channels])  # mnist 数据集图片大小为28*28=784，placeholder为占位符\n",
    "y = tf.placeholder(tf.float32, [None, num_labels])  # 识别A-J的数据，一共10个类别\n",
    "\n",
    "# CNN参数\n",
    "patch_size = 5\n",
    "depth = 16\n",
    "num_hidden = 64\n",
    "\n",
    "# Variables.\n",
    "layer1_weights =\n",
    "layer1_biases =\n",
    "\n",
    "layer2_weights =\n",
    "layer2_biases =\n",
    "\n",
    "layer3_weights =\n",
    "layer3_biases =\n",
    "\n",
    "layer4_weights =\n",
    "layer4_biases =\n",
    "\n",
    "# Model.\n",
    "def model(data):\n",
    "    conv = \n",
    "    hidden = tf.nn.relu(conv + layer1_biases)\n",
    "    conv = \n",
    "    hidden = tf.nn.relu(conv + layer2_biases)\n",
    "    shape = hidden.get_shape().as_list()\n",
    "    reshape = tf.reshape(hidden, [-1, shape[1] * shape[2] * shape[3]])\n",
    "    hidden = \n",
    "    return \n",
    "\n",
    "# 构造模型\n",
    "pred = tf.nn.softmax(model(x))  # Softmax\n",
    "\n",
    "# 损失函数：交叉墒\n",
    "loss = tf.reduce_mean(-tf.reduce_sum(y * tf.log(pred), reduction_indices=1))\n",
    "# 使用梯度下降算法寻找最优解\n",
    "# API tf.train.GradientDescentOptimizer\n",
    "# TODO 创建梯度下降优化方法\n",
    "optimizer = tf.train.GradientDescentOptimizer(learning_rate).minimize(loss)\n",
    "# 初始化所有变量\n",
    "init = tf.global_variables_initializer()\n",
    "saver = tf.train.Saver()\n",
    "\n",
    "def accuracy(pred, y, test_data):\n",
    "    # 测试模型\n",
    "    correct_prediction = tf.equal(tf.argmax(pred, 1), tf.argmax(y, 1))\n",
    "    # 计算准确度\n",
    "    accuracy = tf.reduce_mean(tf.cast(correct_prediction, tf.float32))\n",
    "    return accuracy.eval({x: test_data.images, y: test_data.labels})"
   ]
  },
  {
   "cell_type": "code",
   "execution_count": 78,
   "metadata": {
    "collapsed": false,
    "deletable": true,
    "editable": true
   },
   "outputs": [
    {
     "name": "stdout",
     "output_type": "stream",
     "text": [
      "Epoch: 0001 loss: 0.669210697 accuracy: 0.9112\n",
      "Epoch: 0002 loss: 0.488070094 accuracy: 0.9267\n",
      "Epoch: 0003 loss: 0.439474562 accuracy: 0.9355\n",
      "Epoch: 0004 loss: 0.412151151 accuracy: 0.9396\n",
      "Epoch: 0005 loss: 0.392998637 accuracy: 0.9431\n",
      "Epoch: 0006 loss: 0.378263530 accuracy: 0.9441\n",
      "Epoch: 0007 loss: 0.366172060 accuracy: 0.9449\n",
      "Epoch: 0008 loss: 0.355846938 accuracy: 0.9468\n",
      "Epoch: 0009 loss: 0.346964184 accuracy: 0.9471\n",
      "Epoch: 0010 loss: 0.339002778 accuracy: 0.9476\n",
      "Epoch: 0011 loss: 0.331863769 accuracy: 0.9478\n",
      "Epoch: 0012 loss: 0.325323714 accuracy: 0.9497\n",
      "Epoch: 0013 loss: 0.319461431 accuracy: 0.9502\n",
      "Epoch: 0014 loss: 0.314051330 accuracy: 0.95\n",
      "Epoch: 0015 loss: 0.309165841 accuracy: 0.9513\n",
      "Epoch: 0016 loss: 0.304520438 accuracy: 0.9514\n",
      "Epoch: 0017 loss: 0.300160999 accuracy: 0.9521\n",
      "Epoch: 0018 loss: 0.296189671 accuracy: 0.9531\n",
      "Epoch: 0019 loss: 0.292437611 accuracy: 0.9536\n",
      "Epoch: 0020 loss: 0.288811665 accuracy: 0.9539\n",
      "Epoch: 0021 loss: 0.285411709 accuracy: 0.9545\n",
      "Epoch: 0022 loss: 0.282149945 accuracy: 0.9554\n",
      "Epoch: 0023 loss: 0.279084676 accuracy: 0.9561\n",
      "Epoch: 0024 loss: 0.276040306 accuracy: 0.9562\n",
      "Epoch: 0025 loss: 0.273113487 accuracy: 0.9568\n",
      "Optimization Finished!\n",
      "Accuracy: 0.9568\n"
     ]
    }
   ],
   "source": [
    "# 启动tf图\n",
    "with tf.Session() as sess:\n",
    "    sess.run(init)  # 初始化所有变量\n",
    "\n",
    "    # 迭代训练\n",
    "    for epoch in range(training_epochs):\n",
    "        avg_loss = 0.\n",
    "        total_batch = int(not_mnist.train.num_examples / batch_size)  # 计算数据集总共有多少批次数据\n",
    "        # 训练训练所有批次数据\n",
    "        for i in range(total_batch):\n",
    "            batch_xs, batch_ys = not_mnist.train.next_batch(batch_size)\n",
    "            # 运行优化操作和损失函数计算操作，获取损失值\n",
    "            _, c = sess.run([optimizer, loss], feed_dict={x: batch_xs,\n",
    "                                                          y: batch_ys})\n",
    "            # 计算平均损失\n",
    "            avg_loss += c / total_batch\n",
    "        # 打印显示\n",
    "        if (epoch + 1) % display_step == 0:\n",
    "            print(\"Epoch:\", '%04d' % (epoch + 1), \"loss:\", \"{:.9f}\".format(avg_loss),\n",
    "                  \"accuracy:\", accuracy(pred, y, not_mnist.test))\n",
    "\n",
    "    print(\"Optimization Finished!\")\n",
    "    print(\"Accuracy:\", accuracy(pred, y, not_mnist.test))\n",
    "    saver.save(sess, 'my-model')"
   ]
  },
  {
   "cell_type": "code",
   "execution_count": null,
   "metadata": {
    "collapsed": true,
    "deletable": true,
    "editable": true
   },
   "outputs": [],
   "source": [
    ""
   ]
  }
 ],
 "metadata": {
  "kernelspec": {
   "display_name": "Python 3",
   "language": "python",
   "name": "python3"
  },
  "language_info": {
   "codemirror_mode": {
    "name": "ipython",
    "version": 3.0
   },
   "file_extension": ".py",
   "mimetype": "text/x-python",
   "name": "python",
   "nbconvert_exporter": "python",
   "pygments_lexer": "ipython3",
   "version": "3.4.3"
  }
 },
 "nbformat": 4,
 "nbformat_minor": 0
}